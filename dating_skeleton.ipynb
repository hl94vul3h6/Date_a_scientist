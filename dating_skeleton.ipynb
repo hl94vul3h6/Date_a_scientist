{
 "cells": [
  {
   "cell_type": "markdown",
   "metadata": {},
   "source": [
    "# Importing libraries and data"
   ]
  },
  {
   "cell_type": "code",
   "execution_count": 1,
   "metadata": {},
   "outputs": [],
   "source": [
    "# import relevant libraries\n",
    "import pandas as pd\n",
    "from matplotlib import pyplot as plt\n",
    "import numpy as np\n",
    "\n",
    "# set branding colours\n",
    "light_blue = '#6fa5d2'\n",
    "medium_blue = '#456785'\n",
    "dark_blue = '#293748'\n",
    "\n",
    "# set max_columns and max_colwidth to make it easier to see data in DataFrame\n",
    "pd.options.display.max_columns = 60\n",
    "pd.options.display.max_colwidth = 100"
   ]
  },
  {
   "cell_type": "code",
   "execution_count": 2,
   "metadata": {},
   "outputs": [
    {
     "name": "stdout",
     "output_type": "stream",
     "text": [
      "59946\n",
      "['age' 'body_type' 'diet' 'drinks' 'drugs' 'education' 'essay0' 'essay1'\n",
      " 'essay2' 'essay3' 'essay4' 'essay5' 'essay6' 'essay7' 'essay8' 'essay9'\n",
      " 'ethnicity' 'height' 'income' 'job' 'last_online' 'location' 'offspring'\n",
      " 'orientation' 'pets' 'religion' 'sex' 'sign' 'smokes' 'speaks' 'status']\n"
     ]
    },
    {
     "data": {
      "text/html": [
       "<div>\n",
       "<style scoped>\n",
       "    .dataframe tbody tr th:only-of-type {\n",
       "        vertical-align: middle;\n",
       "    }\n",
       "\n",
       "    .dataframe tbody tr th {\n",
       "        vertical-align: top;\n",
       "    }\n",
       "\n",
       "    .dataframe thead th {\n",
       "        text-align: right;\n",
       "    }\n",
       "</style>\n",
       "<table border=\"1\" class=\"dataframe\">\n",
       "  <thead>\n",
       "    <tr style=\"text-align: right;\">\n",
       "      <th></th>\n",
       "      <th>age</th>\n",
       "      <th>body_type</th>\n",
       "      <th>diet</th>\n",
       "      <th>drinks</th>\n",
       "      <th>drugs</th>\n",
       "      <th>education</th>\n",
       "      <th>essay0</th>\n",
       "      <th>essay1</th>\n",
       "      <th>essay2</th>\n",
       "      <th>essay3</th>\n",
       "      <th>essay4</th>\n",
       "      <th>essay5</th>\n",
       "      <th>essay6</th>\n",
       "      <th>essay7</th>\n",
       "      <th>essay8</th>\n",
       "      <th>essay9</th>\n",
       "      <th>ethnicity</th>\n",
       "      <th>height</th>\n",
       "      <th>income</th>\n",
       "      <th>job</th>\n",
       "      <th>last_online</th>\n",
       "      <th>location</th>\n",
       "      <th>offspring</th>\n",
       "      <th>orientation</th>\n",
       "      <th>pets</th>\n",
       "      <th>religion</th>\n",
       "      <th>sex</th>\n",
       "      <th>sign</th>\n",
       "      <th>smokes</th>\n",
       "      <th>speaks</th>\n",
       "      <th>status</th>\n",
       "    </tr>\n",
       "  </thead>\n",
       "  <tbody>\n",
       "    <tr>\n",
       "      <th>0</th>\n",
       "      <td>22</td>\n",
       "      <td>a little extra</td>\n",
       "      <td>strictly anything</td>\n",
       "      <td>socially</td>\n",
       "      <td>never</td>\n",
       "      <td>working on college/university</td>\n",
       "      <td>about me:&lt;br /&gt;\\n&lt;br /&gt;\\ni would love to think that i was some some kind of intellectual:\\neithe...</td>\n",
       "      <td>currently working as an international agent for a freight\\nforwarding company. import, export, d...</td>\n",
       "      <td>making people laugh.&lt;br /&gt;\\nranting about a good salting.&lt;br /&gt;\\nfinding simplicity in complexit...</td>\n",
       "      <td>the way i look. i am a six foot half asian, half caucasian mutt. it\\nmakes it tough not to notic...</td>\n",
       "      <td>books:&lt;br /&gt;\\nabsurdistan, the republic, of mice and men (only book that made me\\nwant to cry), ...</td>\n",
       "      <td>food.&lt;br /&gt;\\nwater.&lt;br /&gt;\\ncell phone.&lt;br /&gt;\\nshelter.</td>\n",
       "      <td>duality and humorous things</td>\n",
       "      <td>trying to find someone to hang out with. i am down for anything\\nexcept a club.</td>\n",
       "      <td>i am new to california and looking for someone to wisper my secrets\\nto.</td>\n",
       "      <td>you want to be swept off your feet!&lt;br /&gt;\\nyou are tired of the norm.&lt;br /&gt;\\nyou want to catch a...</td>\n",
       "      <td>asian, white</td>\n",
       "      <td>75.0</td>\n",
       "      <td>-1</td>\n",
       "      <td>transportation</td>\n",
       "      <td>2012-06-28-20-30</td>\n",
       "      <td>south san francisco, california</td>\n",
       "      <td>doesn&amp;rsquo;t have kids, but might want them</td>\n",
       "      <td>straight</td>\n",
       "      <td>likes dogs and likes cats</td>\n",
       "      <td>agnosticism and very serious about it</td>\n",
       "      <td>m</td>\n",
       "      <td>gemini</td>\n",
       "      <td>sometimes</td>\n",
       "      <td>english</td>\n",
       "      <td>single</td>\n",
       "    </tr>\n",
       "    <tr>\n",
       "      <th>1</th>\n",
       "      <td>35</td>\n",
       "      <td>average</td>\n",
       "      <td>mostly other</td>\n",
       "      <td>often</td>\n",
       "      <td>sometimes</td>\n",
       "      <td>working on space camp</td>\n",
       "      <td>i am a chef: this is what that means.&lt;br /&gt;\\n1. i am a workaholic.&lt;br /&gt;\\n2. i love to cook rega...</td>\n",
       "      <td>dedicating everyday to being an unbelievable badass.</td>\n",
       "      <td>being silly. having ridiculous amonts of fun wherever. being a\\nsmart ass. ohh and i can cook. ;)</td>\n",
       "      <td>NaN</td>\n",
       "      <td>i am die hard christopher moore fan. i don't really watch a lot of\\ntv unless there is humor inv...</td>\n",
       "      <td>delicious porkness in all of its glories.&lt;br /&gt;\\nmy big ass doughboy's sinking into 15 new inche...</td>\n",
       "      <td>NaN</td>\n",
       "      <td>NaN</td>\n",
       "      <td>i am very open and will share just about anything.</td>\n",
       "      <td>NaN</td>\n",
       "      <td>white</td>\n",
       "      <td>70.0</td>\n",
       "      <td>80000</td>\n",
       "      <td>hospitality / travel</td>\n",
       "      <td>2012-06-29-21-41</td>\n",
       "      <td>oakland, california</td>\n",
       "      <td>doesn&amp;rsquo;t have kids, but might want them</td>\n",
       "      <td>straight</td>\n",
       "      <td>likes dogs and likes cats</td>\n",
       "      <td>agnosticism but not too serious about it</td>\n",
       "      <td>m</td>\n",
       "      <td>cancer</td>\n",
       "      <td>no</td>\n",
       "      <td>english (fluently), spanish (poorly), french (poorly)</td>\n",
       "      <td>single</td>\n",
       "    </tr>\n",
       "    <tr>\n",
       "      <th>2</th>\n",
       "      <td>38</td>\n",
       "      <td>thin</td>\n",
       "      <td>anything</td>\n",
       "      <td>socially</td>\n",
       "      <td>NaN</td>\n",
       "      <td>graduated from masters program</td>\n",
       "      <td>i'm not ashamed of much, but writing public text on an online\\ndating site makes me pleasantly u...</td>\n",
       "      <td>i make nerdy software for musicians, artists, and experimenters to\\nindulge in their own weirdne...</td>\n",
       "      <td>improvising in different contexts. alternating between being\\npresent and decidedly outside of a...</td>\n",
       "      <td>my large jaw and large glasses are the physical things people\\ncomment on the most. when suffici...</td>\n",
       "      <td>okay this is where the cultural matrix gets so specific, it's like\\nbeing in the crosshairs.&lt;br ...</td>\n",
       "      <td>movement&lt;br /&gt;\\nconversation&lt;br /&gt;\\ncreation&lt;br /&gt;\\ncontemplation&lt;br /&gt;\\ntouch&lt;br /&gt;\\nhumor</td>\n",
       "      <td>NaN</td>\n",
       "      <td>viewing. listening. dancing. talking. drinking. performing.</td>\n",
       "      <td>when i was five years old, i was known as \"the boogerman\".</td>\n",
       "      <td>you are bright, open, intense, silly, ironic, critical, caring,\\ngenerous, looking for an explor...</td>\n",
       "      <td>NaN</td>\n",
       "      <td>68.0</td>\n",
       "      <td>-1</td>\n",
       "      <td>NaN</td>\n",
       "      <td>2012-06-27-09-10</td>\n",
       "      <td>san francisco, california</td>\n",
       "      <td>NaN</td>\n",
       "      <td>straight</td>\n",
       "      <td>has cats</td>\n",
       "      <td>NaN</td>\n",
       "      <td>m</td>\n",
       "      <td>pisces but it doesn&amp;rsquo;t matter</td>\n",
       "      <td>no</td>\n",
       "      <td>english, french, c++</td>\n",
       "      <td>available</td>\n",
       "    </tr>\n",
       "    <tr>\n",
       "      <th>3</th>\n",
       "      <td>23</td>\n",
       "      <td>thin</td>\n",
       "      <td>vegetarian</td>\n",
       "      <td>socially</td>\n",
       "      <td>NaN</td>\n",
       "      <td>working on college/university</td>\n",
       "      <td>i work in a library and go to school. . .</td>\n",
       "      <td>reading things written by old dead people</td>\n",
       "      <td>playing synthesizers and organizing books according to the library\\nof congress classification s...</td>\n",
       "      <td>socially awkward but i do my best</td>\n",
       "      <td>bataille, celine, beckett. . .&lt;br /&gt;\\nlynch, jarmusch, r.w. fassbender. . .&lt;br /&gt;\\ntwin peaks &amp;a...</td>\n",
       "      <td>NaN</td>\n",
       "      <td>cats and german philosophy</td>\n",
       "      <td>NaN</td>\n",
       "      <td>NaN</td>\n",
       "      <td>you feel so inclined.</td>\n",
       "      <td>white</td>\n",
       "      <td>71.0</td>\n",
       "      <td>20000</td>\n",
       "      <td>student</td>\n",
       "      <td>2012-06-28-14-22</td>\n",
       "      <td>berkeley, california</td>\n",
       "      <td>doesn&amp;rsquo;t want kids</td>\n",
       "      <td>straight</td>\n",
       "      <td>likes cats</td>\n",
       "      <td>NaN</td>\n",
       "      <td>m</td>\n",
       "      <td>pisces</td>\n",
       "      <td>no</td>\n",
       "      <td>english, german (poorly)</td>\n",
       "      <td>single</td>\n",
       "    </tr>\n",
       "    <tr>\n",
       "      <th>4</th>\n",
       "      <td>29</td>\n",
       "      <td>athletic</td>\n",
       "      <td>NaN</td>\n",
       "      <td>socially</td>\n",
       "      <td>never</td>\n",
       "      <td>graduated from college/university</td>\n",
       "      <td>hey how's it going? currently vague on the profile i know, more to\\ncome soon. looking to meet n...</td>\n",
       "      <td>work work work work + play</td>\n",
       "      <td>creating imagery to look at:&lt;br /&gt;\\nhttp://bagsbrown.blogspot.com/&lt;br /&gt;\\nhttp://stayruly.blogsp...</td>\n",
       "      <td>i smile a lot and my inquisitive nature</td>\n",
       "      <td>music: bands, rappers, musicians&lt;br /&gt;\\nat the moment: thee oh sees.&lt;br /&gt;\\nforever: wu-tang&lt;br ...</td>\n",
       "      <td>NaN</td>\n",
       "      <td>NaN</td>\n",
       "      <td>NaN</td>\n",
       "      <td>NaN</td>\n",
       "      <td>NaN</td>\n",
       "      <td>asian, black, other</td>\n",
       "      <td>66.0</td>\n",
       "      <td>-1</td>\n",
       "      <td>artistic / musical / writer</td>\n",
       "      <td>2012-06-27-21-26</td>\n",
       "      <td>san francisco, california</td>\n",
       "      <td>NaN</td>\n",
       "      <td>straight</td>\n",
       "      <td>likes dogs and likes cats</td>\n",
       "      <td>NaN</td>\n",
       "      <td>m</td>\n",
       "      <td>aquarius</td>\n",
       "      <td>no</td>\n",
       "      <td>english</td>\n",
       "      <td>single</td>\n",
       "    </tr>\n",
       "  </tbody>\n",
       "</table>\n",
       "</div>"
      ],
      "text/plain": [
       "   age       body_type               diet    drinks      drugs  \\\n",
       "0   22  a little extra  strictly anything  socially      never   \n",
       "1   35         average       mostly other     often  sometimes   \n",
       "2   38            thin           anything  socially        NaN   \n",
       "3   23            thin         vegetarian  socially        NaN   \n",
       "4   29        athletic                NaN  socially      never   \n",
       "\n",
       "                           education  \\\n",
       "0      working on college/university   \n",
       "1              working on space camp   \n",
       "2     graduated from masters program   \n",
       "3      working on college/university   \n",
       "4  graduated from college/university   \n",
       "\n",
       "                                                                                                essay0  \\\n",
       "0  about me:<br />\\n<br />\\ni would love to think that i was some some kind of intellectual:\\neithe...   \n",
       "1  i am a chef: this is what that means.<br />\\n1. i am a workaholic.<br />\\n2. i love to cook rega...   \n",
       "2  i'm not ashamed of much, but writing public text on an online\\ndating site makes me pleasantly u...   \n",
       "3                                                            i work in a library and go to school. . .   \n",
       "4  hey how's it going? currently vague on the profile i know, more to\\ncome soon. looking to meet n...   \n",
       "\n",
       "                                                                                                essay1  \\\n",
       "0  currently working as an international agent for a freight\\nforwarding company. import, export, d...   \n",
       "1                                                 dedicating everyday to being an unbelievable badass.   \n",
       "2  i make nerdy software for musicians, artists, and experimenters to\\nindulge in their own weirdne...   \n",
       "3                                                            reading things written by old dead people   \n",
       "4                                                                           work work work work + play   \n",
       "\n",
       "                                                                                                essay2  \\\n",
       "0  making people laugh.<br />\\nranting about a good salting.<br />\\nfinding simplicity in complexit...   \n",
       "1    being silly. having ridiculous amonts of fun wherever. being a\\nsmart ass. ohh and i can cook. ;)   \n",
       "2  improvising in different contexts. alternating between being\\npresent and decidedly outside of a...   \n",
       "3  playing synthesizers and organizing books according to the library\\nof congress classification s...   \n",
       "4  creating imagery to look at:<br />\\nhttp://bagsbrown.blogspot.com/<br />\\nhttp://stayruly.blogsp...   \n",
       "\n",
       "                                                                                                essay3  \\\n",
       "0  the way i look. i am a six foot half asian, half caucasian mutt. it\\nmakes it tough not to notic...   \n",
       "1                                                                                                  NaN   \n",
       "2  my large jaw and large glasses are the physical things people\\ncomment on the most. when suffici...   \n",
       "3                                                                    socially awkward but i do my best   \n",
       "4                                                              i smile a lot and my inquisitive nature   \n",
       "\n",
       "                                                                                                essay4  \\\n",
       "0  books:<br />\\nabsurdistan, the republic, of mice and men (only book that made me\\nwant to cry), ...   \n",
       "1  i am die hard christopher moore fan. i don't really watch a lot of\\ntv unless there is humor inv...   \n",
       "2  okay this is where the cultural matrix gets so specific, it's like\\nbeing in the crosshairs.<br ...   \n",
       "3  bataille, celine, beckett. . .<br />\\nlynch, jarmusch, r.w. fassbender. . .<br />\\ntwin peaks &a...   \n",
       "4  music: bands, rappers, musicians<br />\\nat the moment: thee oh sees.<br />\\nforever: wu-tang<br ...   \n",
       "\n",
       "                                                                                                essay5  \\\n",
       "0                                               food.<br />\\nwater.<br />\\ncell phone.<br />\\nshelter.   \n",
       "1  delicious porkness in all of its glories.<br />\\nmy big ass doughboy's sinking into 15 new inche...   \n",
       "2          movement<br />\\nconversation<br />\\ncreation<br />\\ncontemplation<br />\\ntouch<br />\\nhumor   \n",
       "3                                                                                                  NaN   \n",
       "4                                                                                                  NaN   \n",
       "\n",
       "                        essay6  \\\n",
       "0  duality and humorous things   \n",
       "1                          NaN   \n",
       "2                          NaN   \n",
       "3   cats and german philosophy   \n",
       "4                          NaN   \n",
       "\n",
       "                                                                            essay7  \\\n",
       "0  trying to find someone to hang out with. i am down for anything\\nexcept a club.   \n",
       "1                                                                              NaN   \n",
       "2                      viewing. listening. dancing. talking. drinking. performing.   \n",
       "3                                                                              NaN   \n",
       "4                                                                              NaN   \n",
       "\n",
       "                                                                     essay8  \\\n",
       "0  i am new to california and looking for someone to wisper my secrets\\nto.   \n",
       "1                        i am very open and will share just about anything.   \n",
       "2                when i was five years old, i was known as \"the boogerman\".   \n",
       "3                                                                       NaN   \n",
       "4                                                                       NaN   \n",
       "\n",
       "                                                                                                essay9  \\\n",
       "0  you want to be swept off your feet!<br />\\nyou are tired of the norm.<br />\\nyou want to catch a...   \n",
       "1                                                                                                  NaN   \n",
       "2  you are bright, open, intense, silly, ironic, critical, caring,\\ngenerous, looking for an explor...   \n",
       "3                                                                                you feel so inclined.   \n",
       "4                                                                                                  NaN   \n",
       "\n",
       "             ethnicity  height  income                          job  \\\n",
       "0         asian, white    75.0      -1               transportation   \n",
       "1                white    70.0   80000         hospitality / travel   \n",
       "2                  NaN    68.0      -1                          NaN   \n",
       "3                white    71.0   20000                      student   \n",
       "4  asian, black, other    66.0      -1  artistic / musical / writer   \n",
       "\n",
       "        last_online                         location  \\\n",
       "0  2012-06-28-20-30  south san francisco, california   \n",
       "1  2012-06-29-21-41              oakland, california   \n",
       "2  2012-06-27-09-10        san francisco, california   \n",
       "3  2012-06-28-14-22             berkeley, california   \n",
       "4  2012-06-27-21-26        san francisco, california   \n",
       "\n",
       "                                      offspring orientation  \\\n",
       "0  doesn&rsquo;t have kids, but might want them    straight   \n",
       "1  doesn&rsquo;t have kids, but might want them    straight   \n",
       "2                                           NaN    straight   \n",
       "3                       doesn&rsquo;t want kids    straight   \n",
       "4                                           NaN    straight   \n",
       "\n",
       "                        pets                                  religion sex  \\\n",
       "0  likes dogs and likes cats     agnosticism and very serious about it   m   \n",
       "1  likes dogs and likes cats  agnosticism but not too serious about it   m   \n",
       "2                   has cats                                       NaN   m   \n",
       "3                 likes cats                                       NaN   m   \n",
       "4  likes dogs and likes cats                                       NaN   m   \n",
       "\n",
       "                                 sign     smokes  \\\n",
       "0                              gemini  sometimes   \n",
       "1                              cancer         no   \n",
       "2  pisces but it doesn&rsquo;t matter         no   \n",
       "3                              pisces         no   \n",
       "4                            aquarius         no   \n",
       "\n",
       "                                                  speaks     status  \n",
       "0                                                english     single  \n",
       "1  english (fluently), spanish (poorly), french (poorly)     single  \n",
       "2                                   english, french, c++  available  \n",
       "3                               english, german (poorly)     single  \n",
       "4                                                english     single  "
      ]
     },
     "execution_count": 2,
     "metadata": {},
     "output_type": "execute_result"
    }
   ],
   "source": [
    "# import profiles.csv file as a DataFrame and explore columns\n",
    "all_data = pd.read_csv(\"profiles.csv\")\n",
    "print(len(all_data))\n",
    "print(all_data.columns.values)\n",
    "all_data.head()"
   ]
  },
  {
   "cell_type": "markdown",
   "metadata": {},
   "source": [
    "# Processing and cleaning data for analysis"
   ]
  },
  {
   "cell_type": "code",
   "execution_count": 3,
   "metadata": {},
   "outputs": [
    {
     "data": {
      "text/plain": [
       "array(['age', 'body_type', 'diet', 'drinks', 'drugs', 'education',\n",
       "       'height', 'income', 'job', 'smokes', 'status'], dtype=object)"
      ]
     },
     "execution_count": 3,
     "metadata": {},
     "output_type": "execute_result"
    }
   ],
   "source": [
    "# drop columns that will not be used for project\n",
    "columns_to_drop = [\n",
    "    'ethnicity',\n",
    "    'last_online',\n",
    "    'location',\n",
    "    'offspring',\n",
    "    'orientation',\n",
    "    'pets',\n",
    "    'religion',\n",
    "    'sign',\n",
    "    'speaks',\n",
    "    'essay0',\n",
    "    'essay1',\n",
    "    'essay2',\n",
    "    'essay3',\n",
    "    'essay4',\n",
    "    'essay5',\n",
    "    'essay6',\n",
    "    'essay7',\n",
    "    'essay8',\n",
    "    'essay9',\n",
    "    'sex'\n",
    "]\n",
    "all_data.drop(columns_to_drop, axis=1, inplace=True)\n",
    "all_data.columns.values"
   ]
  },
  {
   "cell_type": "code",
   "execution_count": 4,
   "metadata": {},
   "outputs": [
    {
     "data": {
      "text/plain": [
       "age          False\n",
       "body_type     True\n",
       "diet          True\n",
       "drinks        True\n",
       "drugs         True\n",
       "education     True\n",
       "height        True\n",
       "income       False\n",
       "job           True\n",
       "smokes        True\n",
       "status       False\n",
       "dtype: bool"
      ]
     },
     "execution_count": 4,
     "metadata": {},
     "output_type": "execute_result"
    }
   ],
   "source": [
    "# check which columns have NaN values\n",
    "all_data.isna().any()"
   ]
  },
  {
   "cell_type": "code",
   "execution_count": 5,
   "metadata": {},
   "outputs": [],
   "source": [
    "#remove NaNs in columns\n",
    "other_columns_with_nan_values = [\n",
    "    'body_type', \n",
    "    'diet', \n",
    "    'drinks', \n",
    "    'drugs', \n",
    "    'height', \n",
    "    'smokes',\n",
    "    'education',\n",
    "    'job'\n",
    "]\n",
    "all_data.dropna(subset=other_columns_with_nan_values, inplace=True)"
   ]
  },
  {
   "cell_type": "code",
   "execution_count": 6,
   "metadata": {},
   "outputs": [
    {
     "name": "stdout",
     "output_type": "stream",
     "text": [
      "22127\n"
     ]
    }
   ],
   "source": [
    "# check that no columns have NaN values\n",
    "all_data.isna().any()\n",
    "\n",
    "# return length of data frame to see how many rows have been dropped\n",
    "print(len(all_data))"
   ]
  },
  {
   "cell_type": "code",
   "execution_count": 7,
   "metadata": {},
   "outputs": [
    {
     "data": {
      "text/plain": [
       "single            20846\n",
       "available           603\n",
       "seeing someone      577\n",
       "married              99\n",
       "unknown               2\n",
       "Name: status, dtype: int64"
      ]
     },
     "execution_count": 7,
     "metadata": {},
     "output_type": "execute_result"
    }
   ],
   "source": [
    "# determine value counts for status responses\n",
    "all_data['status'].value_counts()"
   ]
  },
  {
   "cell_type": "code",
   "execution_count": 8,
   "metadata": {},
   "outputs": [
    {
     "data": {
      "text/plain": [
       "0    20846\n",
       "1      603\n",
       "2      577\n",
       "3       99\n",
       "Name: status_code, dtype: int64"
      ]
     },
     "execution_count": 8,
     "metadata": {},
     "output_type": "execute_result"
    }
   ],
   "source": [
    "# remove rows where response is \"unknown\"\n",
    "\n",
    "all_data = all_data.loc[all_data['status'] != \"unknown\",:]\n",
    "\n",
    "# map status responses to a number code\n",
    "\n",
    "status_codes = {\n",
    "    \"single\": 0,\n",
    "    \"available\": 1,\n",
    "    \"seeing someone\": 2,\n",
    "    \"married\": 3,\n",
    "}\n",
    "\n",
    "all_data[\"status_code\"] = all_data['status'].map(status_codes)\n",
    "\n",
    "#check that mapping status responses has worked \n",
    "\n",
    "all_data['status_code'].value_counts()"
   ]
  },
  {
   "cell_type": "code",
   "execution_count": 9,
   "metadata": {},
   "outputs": [
    {
     "data": {
      "text/plain": [
       "-1          16364\n",
       " 20000       1583\n",
       " 100000       785\n",
       " 80000        548\n",
       " 40000        522\n",
       " 30000        516\n",
       " 50000        452\n",
       " 70000        352\n",
       " 60000        340\n",
       " 150000       308\n",
       " 1000000      259\n",
       " 250000        72\n",
       " 500000        24\n",
       "Name: income, dtype: int64"
      ]
     },
     "execution_count": 9,
     "metadata": {},
     "output_type": "execute_result"
    }
   ],
   "source": [
    "# determine value counts for income responses\n",
    "all_data['income'].value_counts()"
   ]
  },
  {
   "cell_type": "code",
   "execution_count": 10,
   "metadata": {},
   "outputs": [
    {
     "data": {
      "text/plain": [
       "graduated from college/university    9417\n",
       "graduated from masters program       3754\n",
       "working on college/university        2577\n",
       "graduated from two-year college       752\n",
       "graduated from high school            707\n",
       "working on masters program            651\n",
       "graduated from ph.d program           544\n",
       "working on two-year college           495\n",
       "dropped out of college/university     458\n",
       "graduated from law school             441\n",
       "working on ph.d program               402\n",
       "graduated from space camp             289\n",
       "college/university                    265\n",
       "dropped out of space camp             228\n",
       "graduated from med school             212\n",
       "working on space camp                 195\n",
       "working on law school                 105\n",
       "working on med school                  98\n",
       "dropped out of two-year college        92\n",
       "two-year college                       92\n",
       "dropped out of masters program         64\n",
       "dropped out of high school             59\n",
       "dropped out of ph.d program            56\n",
       "working on high school                 45\n",
       "masters program                        39\n",
       "high school                            35\n",
       "space camp                             24\n",
       "ph.d program                           14\n",
       "dropped out of law school               5\n",
       "dropped out of med school               4\n",
       "law school                              4\n",
       "med school                              2\n",
       "Name: education, dtype: int64"
      ]
     },
     "execution_count": 10,
     "metadata": {},
     "output_type": "execute_result"
    }
   ],
   "source": [
    "# determine value counts for education responses\n",
    "all_data['education'].value_counts()"
   ]
  },
  {
   "cell_type": "code",
   "execution_count": 11,
   "metadata": {},
   "outputs": [
    {
     "data": {
      "text/plain": [
       "0    9417\n",
       "3    7495\n",
       "1    3754\n",
       "2    1459\n",
       "Name: education_code, dtype: int64"
      ]
     },
     "execution_count": 11,
     "metadata": {},
     "output_type": "execute_result"
    }
   ],
   "source": [
    "# map education responses to a number code\n",
    "\n",
    "def map_education_to_code(education):\n",
    "    if \"graduated from college/university\" in education:\n",
    "        return 0\n",
    "    elif \"graduated from masters program\" in education:\n",
    "        return 1\n",
    "    elif \"graduated from high school\" in education or \"graduated from two-year college\" in education:\n",
    "        return 2\n",
    "    else:\n",
    "        return 3\n",
    "    \n",
    "all_data['education_code'] = all_data['education'].apply(map_education_to_code)\n",
    "\n",
    "# check that mapping education responses has worked \n",
    "\n",
    "all_data['education_code'].value_counts()"
   ]
  },
  {
   "cell_type": "code",
   "execution_count": 12,
   "metadata": {},
   "outputs": [
    {
     "data": {
      "text/plain": [
       "other                                3169\n",
       "student                              2284\n",
       "science / tech / engineering         2142\n",
       "computer / hardware / software       1956\n",
       "sales / marketing / biz dev          1856\n",
       "artistic / musical / writer          1850\n",
       "medicine / health                    1573\n",
       "education / academia                 1466\n",
       "executive / management               1034\n",
       "banking / financial / real estate     992\n",
       "entertainment / media                 837\n",
       "hospitality / travel                  589\n",
       "law / legal services                  538\n",
       "construction / craftsmanship          432\n",
       "clerical / administrative             334\n",
       "political / government                316\n",
       "rather not say                        193\n",
       "transportation                        162\n",
       "retired                               153\n",
       "unemployed                            143\n",
       "military                              106\n",
       "Name: job, dtype: int64"
      ]
     },
     "execution_count": 12,
     "metadata": {},
     "output_type": "execute_result"
    }
   ],
   "source": [
    "# determine value counts for job responses\n",
    "all_data['job'].value_counts()"
   ]
  },
  {
   "cell_type": "code",
   "execution_count": 13,
   "metadata": {},
   "outputs": [
    {
     "data": {
      "text/plain": [
       "9    4539\n",
       "0    2284\n",
       "1    2142\n",
       "2    1956\n",
       "3    1856\n",
       "4    1850\n",
       "8    1829\n",
       "6    1466\n",
       "7    1034\n",
       "Name: job_code, dtype: int64"
      ]
     },
     "execution_count": 13,
     "metadata": {},
     "output_type": "execute_result"
    }
   ],
   "source": [
    "# remove rows where response is \"other\"\n",
    "\n",
    "all_data = all_data.loc[all_data['job'] != \"other\",:]\n",
    "\n",
    "# map job responses to a number code\n",
    "\n",
    "def map_job_to_code(job):\n",
    "    if 'student' in job:\n",
    "        return 0\n",
    "    elif \"science / tech / engineering\" in job:\n",
    "        return 1\n",
    "    elif \"computer / hardware / software\" in job:\n",
    "        return 2\n",
    "    elif \"sales / marketing / biz dev\" in job:\n",
    "        return 3\n",
    "    elif \"artistic / musical / writer\" in job:\n",
    "        return 4\n",
    "    elif \"medicine / health \" in job:\n",
    "        return 5\n",
    "    elif \"education / academia\" in job:\n",
    "        return 6\n",
    "    elif \"executive / management\" in job:\n",
    "        return 7\n",
    "    elif \"banking / financial / real estate\" in job or \"entertainment / media\" in job:\n",
    "        return 8\n",
    "    else:\n",
    "        return 9\n",
    "    \n",
    "all_data['job_code'] = all_data['job'].apply(map_job_to_code)\n",
    "\n",
    "# check that mapping job responses has worked \n",
    "\n",
    "all_data['job_code'].value_counts()"
   ]
  },
  {
   "cell_type": "code",
   "execution_count": 14,
   "metadata": {},
   "outputs": [
    {
     "data": {
      "text/plain": [
       "mostly anything        9465\n",
       "anything               3152\n",
       "strictly anything      2534\n",
       "mostly vegetarian      1742\n",
       "mostly other            522\n",
       "strictly vegetarian     469\n",
       "vegetarian              255\n",
       "strictly other          222\n",
       "other                   167\n",
       "mostly vegan            158\n",
       "strictly vegan          114\n",
       "mostly kosher            54\n",
       "vegan                    52\n",
       "mostly halal             22\n",
       "strictly kosher          12\n",
       "strictly halal            9\n",
       "kosher                    4\n",
       "halal                     3\n",
       "Name: diet, dtype: int64"
      ]
     },
     "execution_count": 14,
     "metadata": {},
     "output_type": "execute_result"
    }
   ],
   "source": [
    "# determine value counts for diet responses\n",
    "all_data['diet'].value_counts()"
   ]
  },
  {
   "cell_type": "code",
   "execution_count": 15,
   "metadata": {},
   "outputs": [
    {
     "data": {
      "text/plain": [
       "3    16062\n",
       "1     2466\n",
       "0      324\n",
       "2      104\n",
       "Name: diet_code, dtype: int64"
      ]
     },
     "execution_count": 15,
     "metadata": {},
     "output_type": "execute_result"
    }
   ],
   "source": [
    "# map diet responses to a number code\n",
    "\n",
    "def map_diet_to_code(diet):\n",
    "    if \"vegan\" in diet:\n",
    "        return 0\n",
    "    elif \"vegetarian\" in diet:\n",
    "        return 1\n",
    "    elif \"kosher\" in diet or \"halal\" in diet:\n",
    "        return 2\n",
    "    else:\n",
    "        return 3\n",
    "    \n",
    "all_data['diet_code'] = all_data['diet'].apply(map_diet_to_code)\n",
    "\n",
    "# check that mapping diet responses has worked \n",
    "\n",
    "all_data['diet_code'].value_counts()"
   ]
  },
  {
   "cell_type": "code",
   "execution_count": 16,
   "metadata": {},
   "outputs": [
    {
     "data": {
      "text/plain": [
       "socially       13675\n",
       "rarely          2140\n",
       "often           1564\n",
       "not at all      1277\n",
       "very often       178\n",
       "desperately      122\n",
       "Name: drinks, dtype: int64"
      ]
     },
     "execution_count": 16,
     "metadata": {},
     "output_type": "execute_result"
    }
   ],
   "source": [
    "# determine value counts for drinks responses\n",
    "all_data['drinks'].value_counts()"
   ]
  },
  {
   "cell_type": "code",
   "execution_count": 17,
   "metadata": {},
   "outputs": [
    {
     "data": {
      "text/plain": [
       "2    13675\n",
       "1     2140\n",
       "3     1564\n",
       "0     1277\n",
       "4      178\n",
       "5      122\n",
       "Name: drinks_code, dtype: int64"
      ]
     },
     "execution_count": 17,
     "metadata": {},
     "output_type": "execute_result"
    }
   ],
   "source": [
    "# map drinks responses to a number code\n",
    "\n",
    "drinks_codes = {\n",
    "    \"not at all\": 0,\n",
    "    \"rarely\": 1,\n",
    "    \"socially\": 2,\n",
    "    \"often\": 3,\n",
    "    \"very often\": 4,\n",
    "    \"desperately\": 5\n",
    "}\n",
    "\n",
    "all_data[\"drinks_code\"] = all_data['drinks'].map(drinks_codes)\n",
    "\n",
    "#check that mapping drinks responses has worked \n",
    "\n",
    "all_data['drinks_code'].value_counts()"
   ]
  },
  {
   "cell_type": "code",
   "execution_count": 18,
   "metadata": {},
   "outputs": [
    {
     "data": {
      "text/plain": [
       "never        15457\n",
       "sometimes     3309\n",
       "often          190\n",
       "Name: drugs, dtype: int64"
      ]
     },
     "execution_count": 18,
     "metadata": {},
     "output_type": "execute_result"
    }
   ],
   "source": [
    "#determine value counts for drugs responses\n",
    "all_data['drugs'].value_counts()"
   ]
  },
  {
   "cell_type": "code",
   "execution_count": 19,
   "metadata": {},
   "outputs": [
    {
     "data": {
      "text/plain": [
       "0    15457\n",
       "1     3309\n",
       "2      190\n",
       "Name: drugs_code, dtype: int64"
      ]
     },
     "execution_count": 19,
     "metadata": {},
     "output_type": "execute_result"
    }
   ],
   "source": [
    "# map drugs responses to a number code\n",
    "\n",
    "drugs_codes = {\n",
    "    \"never\": 0,\n",
    "    \"sometimes\": 1,\n",
    "    \"often\": 2\n",
    "}\n",
    "\n",
    "all_data[\"drugs_code\"] = all_data['drugs'].map(drugs_codes)\n",
    "\n",
    "#check that mapping drugs responses has worked \n",
    "\n",
    "all_data['drugs_code'].value_counts()"
   ]
  },
  {
   "cell_type": "code",
   "execution_count": 20,
   "metadata": {},
   "outputs": [
    {
     "data": {
      "text/plain": [
       "no                15589\n",
       "sometimes          1182\n",
       "when drinking      1056\n",
       "yes                 666\n",
       "trying to quit      463\n",
       "Name: smokes, dtype: int64"
      ]
     },
     "execution_count": 20,
     "metadata": {},
     "output_type": "execute_result"
    }
   ],
   "source": [
    "# determine value counts for smokes responses\n",
    "all_data['smokes'].value_counts()"
   ]
  },
  {
   "cell_type": "code",
   "execution_count": 21,
   "metadata": {},
   "outputs": [
    {
     "data": {
      "text/plain": [
       "0    15589\n",
       "2     1182\n",
       "3     1129\n",
       "1     1056\n",
       "Name: smokes_code, dtype: int64"
      ]
     },
     "execution_count": 21,
     "metadata": {},
     "output_type": "execute_result"
    }
   ],
   "source": [
    "# map smokes responses to a number code\n",
    "\n",
    "smokes_codes = {\n",
    "    \"no\": 0,\n",
    "    \"when drinking\": 1,\n",
    "    \"sometimes\": 2,\n",
    "    \"yes\": 3,\n",
    "    \"trying to quit\": 3\n",
    "}\n",
    "\n",
    "all_data[\"smokes_code\"] = all_data['smokes'].map(smokes_codes)\n",
    "\n",
    "#check that mapping smokes responses has worked \n",
    "\n",
    "all_data['smokes_code'].value_counts()"
   ]
  },
  {
   "cell_type": "code",
   "execution_count": 22,
   "metadata": {},
   "outputs": [
    {
     "data": {
      "text/plain": [
       "average           5001\n",
       "fit               4465\n",
       "athletic          4137\n",
       "thin              1634\n",
       "curvy             1333\n",
       "a little extra     994\n",
       "skinny             568\n",
       "full figured       332\n",
       "overweight         172\n",
       "jacked             144\n",
       "used up            129\n",
       "rather not say      47\n",
       "Name: body_type, dtype: int64"
      ]
     },
     "execution_count": 22,
     "metadata": {},
     "output_type": "execute_result"
    }
   ],
   "source": [
    "# determine value counts for body type responses\n",
    "all_data['body_type'].value_counts()"
   ]
  },
  {
   "cell_type": "code",
   "execution_count": 23,
   "metadata": {},
   "outputs": [
    {
     "data": {
      "text/plain": [
       "0     5001\n",
       "1     4465\n",
       "2     4137\n",
       "3     1634\n",
       "4     1333\n",
       "5      994\n",
       "6      568\n",
       "7      332\n",
       "8      172\n",
       "9      144\n",
       "10     129\n",
       "Name: body_type_code, dtype: int64"
      ]
     },
     "execution_count": 23,
     "metadata": {},
     "output_type": "execute_result"
    }
   ],
   "source": [
    "# remove rows where response is \"rather not say\"\n",
    "\n",
    "all_data = all_data.loc[all_data['body_type'] != \"rather not say\",:]\n",
    "\n",
    "# map body_type responses to a number code\n",
    "\n",
    "body_type_codes = {\n",
    "    \"average\": 0,\n",
    "    \"fit\": 1,\n",
    "    \"athletic\": 2,\n",
    "    \"thin\": 3,\n",
    "    \"curvy\": 4,\n",
    "    \"a little extra\": 5,\n",
    "    \"skinny\": 6,\n",
    "    \"full figured\": 7,\n",
    "    \"overweight\": 8,\n",
    "    \"jacked\": 9,\n",
    "    \"used up\": 10\n",
    "}\n",
    "\n",
    "all_data[\"body_type_code\"] = all_data['body_type'].map(body_type_codes)\n",
    "\n",
    "#check that mapping smokes responses has worked \n",
    "\n",
    "all_data['body_type_code'].value_counts()"
   ]
  },
  {
   "cell_type": "code",
   "execution_count": 24,
   "metadata": {},
   "outputs": [
    {
     "name": "stdout",
     "output_type": "stream",
     "text": [
      "18909\n"
     ]
    }
   ],
   "source": [
    "# return length of data frame to see how many responses will be used for analysis\n",
    "print(len(all_data))"
   ]
  },
  {
   "cell_type": "markdown",
   "metadata": {},
   "source": [
    "# Exploring the cleaned and processed data"
   ]
  },
  {
   "cell_type": "code",
   "execution_count": 25,
   "metadata": {},
   "outputs": [
    {
     "name": "stdout",
     "output_type": "stream",
     "text": [
      "student                              2275\n",
      "science / tech / engineering         2140\n",
      "computer / hardware / software       1953\n",
      "sales / marketing / biz dev          1852\n",
      "artistic / musical / writer          1845\n",
      "medicine / health                    1568\n",
      "education / academia                 1463\n",
      "executive / management               1032\n",
      "banking / financial / real estate     990\n",
      "entertainment / media                 836\n",
      "hospitality / travel                  588\n",
      "law / legal services                  538\n",
      "construction / craftsmanship          431\n",
      "clerical / administrative             334\n",
      "political / government                314\n",
      "rather not say                        187\n",
      "transportation                        162\n",
      "retired                               153\n",
      "unemployed                            142\n",
      "military                              106\n",
      "dtype: int64\n"
     ]
    },
    {
     "data": {
      "image/png": "[encoded data removed]",
      "text/plain": [
       "<Figure size 432x288 with 1 Axes>"
      ]
     },
     "metadata": {
      "needs_background": "light"
     },
     "output_type": "display_data"
    }
   ],
   "source": [
    "#generate bar chart for job responses\n",
    "\n",
    "job_responses = pd.value_counts(all_data['job'].values, sort=True)\n",
    "print(job_responses)\n",
    "ax = job_responses.plot(kind='bar', title='job responses', color=light_blue)\n",
    "ax.set(xlabel='job type', ylabel='Number of responses')\n",
    "plt.show()"
   ]
  },
  {
   "cell_type": "code",
   "execution_count": 26,
   "metadata": {},
   "outputs": [
    {
     "name": "stdout",
     "output_type": "stream",
     "text": [
      "average           5001\n",
      "fit               4465\n",
      "athletic          4137\n",
      "thin              1634\n",
      "curvy             1333\n",
      "a little extra     994\n",
      "skinny             568\n",
      "full figured       332\n",
      "overweight         172\n",
      "jacked             144\n",
      "used up            129\n",
      "dtype: int64\n"
     ]
    },
    {
     "data": {
      "image/png": "[encoded data removed]",
      "text/plain": [
       "<Figure size 432x288 with 1 Axes>"
      ]
     },
     "metadata": {
      "needs_background": "light"
     },
     "output_type": "display_data"
    }
   ],
   "source": [
    "#generate bar chart for body type responses\n",
    "\n",
    "body_type_responses = pd.value_counts(all_data['body_type'].values, sort=True)\n",
    "print(body_type_responses)\n",
    "ax = body_type_responses.plot(kind='bar', title='Body type responses', color=light_blue)\n",
    "ax.set(xlabel='Body type', ylabel='Number of responses')\n",
    "plt.show()"
   ]
  },
  {
   "cell_type": "code",
   "execution_count": 27,
   "metadata": {},
   "outputs": [
    {
     "data": {
      "image/png": "[encoded data removed]",
      "text/plain": [
       "<Figure size 432x288 with 1 Axes>"
      ]
     },
     "metadata": {
      "needs_background": "light"
     },
     "output_type": "display_data"
    }
   ],
   "source": [
    "#generate histogram chart for age responses\n",
    "\n",
    "plt.hist(all_data['age'], color=light_blue, bins=20)\n",
    "plt.title(\"Distribution of age responses\")\n",
    "plt.xlabel(\"Age\")\n",
    "plt.ylabel(\"Frequency\")\n",
    "plt.xlim(16, 80)\n",
    "plt.show()"
   ]
  },
  {
   "cell_type": "code",
   "execution_count": 28,
   "metadata": {},
   "outputs": [
    {
     "data": {
      "text/html": [
       "<div>\n",
       "<style scoped>\n",
       "    .dataframe tbody tr th:only-of-type {\n",
       "        vertical-align: middle;\n",
       "    }\n",
       "\n",
       "    .dataframe tbody tr th {\n",
       "        vertical-align: top;\n",
       "    }\n",
       "\n",
       "    .dataframe thead th {\n",
       "        text-align: right;\n",
       "    }\n",
       "</style>\n",
       "<table border=\"1\" class=\"dataframe\">\n",
       "  <thead>\n",
       "    <tr style=\"text-align: right;\">\n",
       "      <th></th>\n",
       "      <th>age</th>\n",
       "      <th>height</th>\n",
       "      <th>income</th>\n",
       "      <th>status_code</th>\n",
       "      <th>education_code</th>\n",
       "      <th>job_code</th>\n",
       "      <th>diet_code</th>\n",
       "      <th>drinks_code</th>\n",
       "      <th>drugs_code</th>\n",
       "      <th>smokes_code</th>\n",
       "      <th>body_type_code</th>\n",
       "    </tr>\n",
       "  </thead>\n",
       "  <tbody>\n",
       "    <tr>\n",
       "      <th>age</th>\n",
       "      <td>1.000000</td>\n",
       "      <td>-0.047480</td>\n",
       "      <td>-0.006404</td>\n",
       "      <td>-0.033644</td>\n",
       "      <td>-0.152014</td>\n",
       "      <td>0.258408</td>\n",
       "      <td>-0.047732</td>\n",
       "      <td>-0.103631</td>\n",
       "      <td>-0.158502</td>\n",
       "      <td>-0.147184</td>\n",
       "      <td>-0.040378</td>\n",
       "    </tr>\n",
       "    <tr>\n",
       "      <th>height</th>\n",
       "      <td>-0.047480</td>\n",
       "      <td>1.000000</td>\n",
       "      <td>0.055141</td>\n",
       "      <td>-0.003050</td>\n",
       "      <td>0.010076</td>\n",
       "      <td>-0.078017</td>\n",
       "      <td>0.062693</td>\n",
       "      <td>0.039417</td>\n",
       "      <td>0.075735</td>\n",
       "      <td>0.063683</td>\n",
       "      <td>-0.049667</td>\n",
       "    </tr>\n",
       "    <tr>\n",
       "      <th>income</th>\n",
       "      <td>-0.006404</td>\n",
       "      <td>0.055141</td>\n",
       "      <td>1.000000</td>\n",
       "      <td>0.011454</td>\n",
       "      <td>0.034375</td>\n",
       "      <td>0.014618</td>\n",
       "      <td>0.005225</td>\n",
       "      <td>0.058774</td>\n",
       "      <td>0.094346</td>\n",
       "      <td>0.063767</td>\n",
       "      <td>0.061820</td>\n",
       "    </tr>\n",
       "    <tr>\n",
       "      <th>status_code</th>\n",
       "      <td>-0.033644</td>\n",
       "      <td>-0.003050</td>\n",
       "      <td>0.011454</td>\n",
       "      <td>1.000000</td>\n",
       "      <td>0.020299</td>\n",
       "      <td>-0.037577</td>\n",
       "      <td>-0.049781</td>\n",
       "      <td>-0.009097</td>\n",
       "      <td>0.087827</td>\n",
       "      <td>0.021298</td>\n",
       "      <td>0.048560</td>\n",
       "    </tr>\n",
       "    <tr>\n",
       "      <th>education_code</th>\n",
       "      <td>-0.152014</td>\n",
       "      <td>0.010076</td>\n",
       "      <td>0.034375</td>\n",
       "      <td>0.020299</td>\n",
       "      <td>1.000000</td>\n",
       "      <td>-0.098225</td>\n",
       "      <td>-0.022336</td>\n",
       "      <td>-0.035548</td>\n",
       "      <td>0.071731</td>\n",
       "      <td>0.139722</td>\n",
       "      <td>0.064936</td>\n",
       "    </tr>\n",
       "    <tr>\n",
       "      <th>job_code</th>\n",
       "      <td>0.258408</td>\n",
       "      <td>-0.078017</td>\n",
       "      <td>0.014618</td>\n",
       "      <td>-0.037577</td>\n",
       "      <td>-0.098225</td>\n",
       "      <td>1.000000</td>\n",
       "      <td>0.004033</td>\n",
       "      <td>0.000786</td>\n",
       "      <td>-0.042315</td>\n",
       "      <td>0.001645</td>\n",
       "      <td>0.025859</td>\n",
       "    </tr>\n",
       "    <tr>\n",
       "      <th>diet_code</th>\n",
       "      <td>-0.047732</td>\n",
       "      <td>0.062693</td>\n",
       "      <td>0.005225</td>\n",
       "      <td>-0.049781</td>\n",
       "      <td>-0.022336</td>\n",
       "      <td>0.004033</td>\n",
       "      <td>1.000000</td>\n",
       "      <td>0.069500</td>\n",
       "      <td>-0.055578</td>\n",
       "      <td>0.020089</td>\n",
       "      <td>-0.004899</td>\n",
       "    </tr>\n",
       "    <tr>\n",
       "      <th>drinks_code</th>\n",
       "      <td>-0.103631</td>\n",
       "      <td>0.039417</td>\n",
       "      <td>0.058774</td>\n",
       "      <td>-0.009097</td>\n",
       "      <td>-0.035548</td>\n",
       "      <td>0.000786</td>\n",
       "      <td>0.069500</td>\n",
       "      <td>1.000000</td>\n",
       "      <td>0.213638</td>\n",
       "      <td>0.136777</td>\n",
       "      <td>0.032024</td>\n",
       "    </tr>\n",
       "    <tr>\n",
       "      <th>drugs_code</th>\n",
       "      <td>-0.158502</td>\n",
       "      <td>0.075735</td>\n",
       "      <td>0.094346</td>\n",
       "      <td>0.087827</td>\n",
       "      <td>0.071731</td>\n",
       "      <td>-0.042315</td>\n",
       "      <td>-0.055578</td>\n",
       "      <td>0.213638</td>\n",
       "      <td>1.000000</td>\n",
       "      <td>0.347923</td>\n",
       "      <td>0.086070</td>\n",
       "    </tr>\n",
       "    <tr>\n",
       "      <th>smokes_code</th>\n",
       "      <td>-0.147184</td>\n",
       "      <td>0.063683</td>\n",
       "      <td>0.063767</td>\n",
       "      <td>0.021298</td>\n",
       "      <td>0.139722</td>\n",
       "      <td>0.001645</td>\n",
       "      <td>0.020089</td>\n",
       "      <td>0.136777</td>\n",
       "      <td>0.347923</td>\n",
       "      <td>1.000000</td>\n",
       "      <td>0.085562</td>\n",
       "    </tr>\n",
       "    <tr>\n",
       "      <th>body_type_code</th>\n",
       "      <td>-0.040378</td>\n",
       "      <td>-0.049667</td>\n",
       "      <td>0.061820</td>\n",
       "      <td>0.048560</td>\n",
       "      <td>0.064936</td>\n",
       "      <td>0.025859</td>\n",
       "      <td>-0.004899</td>\n",
       "      <td>0.032024</td>\n",
       "      <td>0.086070</td>\n",
       "      <td>0.085562</td>\n",
       "      <td>1.000000</td>\n",
       "    </tr>\n",
       "  </tbody>\n",
       "</table>\n",
       "</div>"
      ],
      "text/plain": [
       "                     age    height    income  status_code  education_code  \\\n",
       "age             1.000000 -0.047480 -0.006404    -0.033644       -0.152014   \n",
       "height         -0.047480  1.000000  0.055141    -0.003050        0.010076   \n",
       "income         -0.006404  0.055141  1.000000     0.011454        0.034375   \n",
       "status_code    -0.033644 -0.003050  0.011454     1.000000        0.020299   \n",
       "education_code -0.152014  0.010076  0.034375     0.020299        1.000000   \n",
       "job_code        0.258408 -0.078017  0.014618    -0.037577       -0.098225   \n",
       "diet_code      -0.047732  0.062693  0.005225    -0.049781       -0.022336   \n",
       "drinks_code    -0.103631  0.039417  0.058774    -0.009097       -0.035548   \n",
       "drugs_code     -0.158502  0.075735  0.094346     0.087827        0.071731   \n",
       "smokes_code    -0.147184  0.063683  0.063767     0.021298        0.139722   \n",
       "body_type_code -0.040378 -0.049667  0.061820     0.048560        0.064936   \n",
       "\n",
       "                job_code  diet_code  drinks_code  drugs_code  smokes_code  \\\n",
       "age             0.258408  -0.047732    -0.103631   -0.158502    -0.147184   \n",
       "height         -0.078017   0.062693     0.039417    0.075735     0.063683   \n",
       "income          0.014618   0.005225     0.058774    0.094346     0.063767   \n",
       "status_code    -0.037577  -0.049781    -0.009097    0.087827     0.021298   \n",
       "education_code -0.098225  -0.022336    -0.035548    0.071731     0.139722   \n",
       "job_code        1.000000   0.004033     0.000786   -0.042315     0.001645   \n",
       "diet_code       0.004033   1.000000     0.069500   -0.055578     0.020089   \n",
       "drinks_code     0.000786   0.069500     1.000000    0.213638     0.136777   \n",
       "drugs_code     -0.042315  -0.055578     0.213638    1.000000     0.347923   \n",
       "smokes_code     0.001645   0.020089     0.136777    0.347923     1.000000   \n",
       "body_type_code  0.025859  -0.004899     0.032024    0.086070     0.085562   \n",
       "\n",
       "                body_type_code  \n",
       "age                  -0.040378  \n",
       "height               -0.049667  \n",
       "income                0.061820  \n",
       "status_code           0.048560  \n",
       "education_code        0.064936  \n",
       "job_code              0.025859  \n",
       "diet_code            -0.004899  \n",
       "drinks_code           0.032024  \n",
       "drugs_code            0.086070  \n",
       "smokes_code           0.085562  \n",
       "body_type_code        1.000000  "
      ]
     },
     "execution_count": 28,
     "metadata": {},
     "output_type": "execute_result"
    }
   ],
   "source": [
    "all_data.corr()"
   ]
  },
  {
   "cell_type": "markdown",
   "metadata": {},
   "source": [
    "# Question 1: Can we use diet, lifestyle information (job, drinks, drug use, smoke, status), and education to predict age?"
   ]
  },
  {
   "cell_type": "markdown",
   "metadata": {},
   "source": [
    "## Prepare data for analysis - scale features and generate training and test data sets"
   ]
  },
  {
   "cell_type": "code",
   "execution_count": 29,
   "metadata": {},
   "outputs": [],
   "source": [
    "# select features and scale data for regression\n",
    "\n",
    "from sklearn.preprocessing import scale\n",
    "\n",
    "list_of_features_for_analysis = [\n",
    "    'diet_code',\n",
    "    'drinks_code',\n",
    "    'drugs_code',\n",
    "    'smokes_code',\n",
    "    'body_type_code',\n",
    "    'status_code',\n",
    "    'education_code',\n",
    "    'job_code'\n",
    "]\n",
    "features = all_data[list_of_features_for_analysis]\n",
    "scaled_features = scale(features, axis=0)\n",
    "age = all_data['age']"
   ]
  },
  {
   "cell_type": "code",
   "execution_count": 30,
   "metadata": {},
   "outputs": [],
   "source": [
    "# generate training and test sets\n",
    "\n",
    "from sklearn.model_selection import train_test_split\n",
    "X_train, X_test, y_train, y_test = train_test_split(scaled_features, age, test_size=0.2, random_state=25)"
   ]
  },
  {
   "cell_type": "markdown",
   "metadata": {},
   "source": [
    "## Use Multiple Linear regression "
   ]
  },
  {
   "cell_type": "code",
   "execution_count": 31,
   "metadata": {},
   "outputs": [
    {
     "name": "stdout",
     "output_type": "stream",
     "text": [
      "MLR training set score: 0.11939469192784613\n",
      "MLR test set score: 0.11515143963557839\n"
     ]
    },
    {
     "data": {
      "image/png": "[encoded data removed]",
      "text/plain": [
       "<Figure size 432x288 with 1 Axes>"
      ]
     },
     "metadata": {
      "needs_background": "light"
     },
     "output_type": "display_data"
    }
   ],
   "source": [
    "# build Multiple Linear Regression model to predict age\n",
    "\n",
    "from sklearn.linear_model import LinearRegression\n",
    "\n",
    "mlr_model = LinearRegression()\n",
    "\n",
    "mlr_model.fit(X_train, y_train)\n",
    "\n",
    "mlr_training_score = mlr_model.score(X_train, y_train)\n",
    "\n",
    "print(\"MLR training set score: %s\" %(mlr_training_score))\n",
    "\n",
    "mlr_test_score = mlr_model.score(X_test, y_test)\n",
    "\n",
    "print(\"MLR test set score: %s\" %(mlr_test_score))\n",
    "\n",
    "#generate plot showing difference between predicted age and actual age using Multiple Linear Regression model\n",
    "\n",
    "mlr_predictions = mlr_model.predict(X_test)\n",
    "\n",
    "plt.scatter(y_test, mlr_predictions, c=light_blue, alpha=0.2)\n",
    "plt.title(\"Actual age versus predicted age using Multiple Linear Regression\")\n",
    "plt.xlabel(\"Actual age\")\n",
    "plt.ylabel(\"Predicted age\")\n",
    "plt.show()"
   ]
  },
  {
   "cell_type": "markdown",
   "metadata": {},
   "source": [
    "## Use K Neighbors regression "
   ]
  },
  {
   "cell_type": "code",
   "execution_count": 32,
   "metadata": {},
   "outputs": [
    {
     "name": "stdout",
     "output_type": "stream",
     "text": [
      "KNR training set score: 0.41252909924733716\n",
      "KNR test set score: 0.0805804771883416\n"
     ]
    },
    {
     "data": {
      "image/png": "[encoded data removed]",
      "text/plain": [
       "<Figure size 432x288 with 1 Axes>"
      ]
     },
     "metadata": {
      "needs_background": "light"
     },
     "output_type": "display_data"
    }
   ],
   "source": [
    "#build K Neighbors Regressor to predict age\n",
    "\n",
    "from sklearn.neighbors import KNeighborsRegressor\n",
    "\n",
    "kn_regressor = KNeighborsRegressor(n_neighbors = 50, weights = \"distance\")\n",
    "kn_regressor.fit(X_train, y_train)\n",
    "\n",
    "knr_training_score = kn_regressor.score(X_train, y_train)\n",
    "\n",
    "print(\"KNR training set score: %s\" %(knr_training_score))\n",
    "\n",
    "knr_test_score = kn_regressor.score(X_test, y_test)\n",
    "\n",
    "print(\"KNR test set score: %s\" %(knr_test_score))\n",
    "\n",
    "#generate plot showing difference between predicted age and actual age using K Neighbors Regressor\n",
    "\n",
    "knr_predictions = kn_regressor.predict(X_test)\n",
    "\n",
    "plt.scatter(y_test, knr_predictions, c=light_blue, alpha=0.2)\n",
    "plt.title(\"Actual age versus predicted age using K Neighbors Regression\")\n",
    "plt.xlabel(\"Actual age\")\n",
    "plt.ylabel(\"Predicted age\")\n",
    "plt.show()"
   ]
  },
  {
   "cell_type": "markdown",
   "metadata": {},
   "source": [
    "# Question 2: Can we use diet, lifestyle information (drinks, drug , smoke, status, job), and age to predict education type? "
   ]
  },
  {
   "cell_type": "markdown",
   "metadata": {},
   "source": [
    "## Prepare data for analysis - scale features and generate training and test data sets "
   ]
  },
  {
   "cell_type": "code",
   "execution_count": 33,
   "metadata": {},
   "outputs": [],
   "source": [
    "# select features and scale data for regression\n",
    "\n",
    "from sklearn.preprocessing import scale\n",
    "\n",
    "list_of_features_classification = [\n",
    "    'diet_code',\n",
    "    'drinks_code',\n",
    "    'drugs_code',\n",
    "    'smokes_code',\n",
    "    'age',\n",
    "    'status_code',\n",
    "    'job_code'\n",
    "]\n",
    "features_classification = all_data[list_of_features_classification]\n",
    "scaled_features_classification = scale(features_classification, axis=0)\n",
    "labels = all_data['education_code']"
   ]
  },
  {
   "cell_type": "code",
   "execution_count": 34,
   "metadata": {},
   "outputs": [],
   "source": [
    "# generate training and test sets\n",
    "\n",
    "from sklearn.model_selection import train_test_split\n",
    "\n",
    "train_data, test_data, train_labels, test_labels = train_test_split(scaled_features_classification, labels, test_size=0.2, random_state=40)"
   ]
  },
  {
   "cell_type": "markdown",
   "metadata": {},
   "source": [
    "## Use K Nearest Neighbours classification "
   ]
  },
  {
   "cell_type": "code",
   "execution_count": 35,
   "metadata": {},
   "outputs": [
    {
     "name": "stdout",
     "output_type": "stream",
     "text": [
      "KNN training set score: 0.5352019567660474\n",
      "KNN test set score: 0.5354309888947647\n"
     ]
    }
   ],
   "source": [
    "# build K Nearest Neighbors model to predict body type\n",
    "\n",
    "from sklearn.neighbors import KNeighborsClassifier\n",
    "\n",
    "knn_classifier = KNeighborsClassifier(n_neighbors=90)\n",
    "knn_classifier.fit(train_data, train_labels)\n",
    "\n",
    "knn_training_score = knn_classifier.score(train_data, train_labels)\n",
    "\n",
    "print(\"KNN training set score: %s\" %(knn_training_score))\n",
    "\n",
    "knn_test_score = knn_classifier.score(test_data, test_labels)\n",
    "\n",
    "print(\"KNN test set score: %s\" %(knn_test_score))"
   ]
  },
  {
   "cell_type": "code",
   "execution_count": 36,
   "metadata": {},
   "outputs": [
    {
     "name": "stdout",
     "output_type": "stream",
     "text": [
      "[[1334   63    0  259]\n",
      " [ 483   76    1   83]\n",
      " [ 133    7    1   78]\n",
      " [ 604   45    1  614]]\n",
      "              precision    recall  f1-score   support\n",
      "\n",
      "           0       0.52      0.81      0.63      1656\n",
      "           1       0.40      0.12      0.18       643\n",
      "           2       0.33      0.00      0.01       219\n",
      "           3       0.59      0.49      0.53      1264\n",
      "\n",
      "    accuracy                           0.54      3782\n",
      "   macro avg       0.46      0.35      0.34      3782\n",
      "weighted avg       0.51      0.54      0.49      3782\n",
      "\n"
     ]
    }
   ],
   "source": [
    "# generate classification report and confusion matrix for K Nearest Neighbors classifier\n",
    "\n",
    "from sklearn.metrics import classification_report, confusion_matrix \n",
    "\n",
    "knn_predictions = knn_classifier.predict(test_data)\n",
    "print(confusion_matrix(test_labels, knn_predictions))\n",
    "print(classification_report(test_labels, knn_predictions))"
   ]
  },
  {
   "cell_type": "code",
   "execution_count": 37,
   "metadata": {},
   "outputs": [
    {
     "data": {
      "image/png": "[encoded data removed]",
      "text/plain": [
       "<Figure size 432x288 with 1 Axes>"
      ]
     },
     "metadata": {
      "needs_background": "light"
     },
     "output_type": "display_data"
    },
    {
     "name": "stdout",
     "output_type": "stream",
     "text": [
      "{'k': 90, 'score': 0.5354309888947647}\n"
     ]
    }
   ],
   "source": [
    "# generate plot showing K Nearest Neighbors classifier score based on different n_neighbors values \n",
    "# and print out n_neighbors value that results in highest score\n",
    "\n",
    "scores = []\n",
    "\n",
    "highest_score = {\n",
    "    'k': 0,\n",
    "    'score': 0\n",
    "}\n",
    "\n",
    "for k in range(1, 101):\n",
    "    classifier = KNeighborsClassifier(n_neighbors=k)\n",
    "    classifier.fit(train_data, train_labels)\n",
    "    score = classifier.score(test_data, test_labels)\n",
    "    scores.append(score)\n",
    "    if score > highest_score['score']:\n",
    "        highest_score = {\n",
    "            'k': k,\n",
    "            'score': score\n",
    "        }\n",
    "\n",
    "x_values = range(1, 101)\n",
    "\n",
    "y_values = scores\n",
    "\n",
    "plt.plot(x_values, y_values)\n",
    "plt.title('Accuracy of K Nearest Neighbours classifier based on different k values')\n",
    "plt.ylabel('Accuracy')\n",
    "plt.xlabel('k value')\n",
    "plt.show()\n",
    "print(highest_score)"
   ]
  },
  {
   "cell_type": "markdown",
   "metadata": {},
   "source": [
    "## Use Support Vector Machines classification "
   ]
  },
  {
   "cell_type": "code",
   "execution_count": 38,
   "metadata": {},
   "outputs": [
    {
     "name": "stdout",
     "output_type": "stream",
     "text": [
      "SVC training set score: 0.5515303761486084\n",
      "SVC test set score: 0.5319936541512428\n"
     ]
    }
   ],
   "source": [
    "from sklearn.svm import SVC\n",
    "\n",
    "svc_classifier = SVC(kernel='rbf', gamma=0.4)\n",
    "svc_classifier.fit(train_data, train_labels)\n",
    "\n",
    "svc_training_score = svc_classifier.score(train_data, train_labels)\n",
    "\n",
    "print(\"SVC training set score: %s\" %(svc_training_score))\n",
    "\n",
    "svc_test_score = classifier.score(test_data, test_labels)\n",
    "\n",
    "print(\"SVC test set score: %s\" %(svc_test_score))"
   ]
  },
  {
   "cell_type": "code",
   "execution_count": 39,
   "metadata": {},
   "outputs": [
    {
     "name": "stdout",
     "output_type": "stream",
     "text": [
      "[[1447   16    4  189]\n",
      " [ 571   13    1   58]\n",
      " [ 144    3    2   70]\n",
      " [ 687   17    3  557]]\n",
      "              precision    recall  f1-score   support\n",
      "\n",
      "           0       0.51      0.87      0.64      1656\n",
      "           1       0.27      0.02      0.04       643\n",
      "           2       0.20      0.01      0.02       219\n",
      "           3       0.64      0.44      0.52      1264\n",
      "\n",
      "    accuracy                           0.53      3782\n",
      "   macro avg       0.40      0.34      0.30      3782\n",
      "weighted avg       0.49      0.53      0.46      3782\n",
      "\n"
     ]
    }
   ],
   "source": [
    "# generate classification report and confusion matrix for Support Vector Machines classifier\n",
    "\n",
    "from sklearn.metrics import classification_report, confusion_matrix \n",
    "\n",
    "svc_predictions = svc_classifier.predict(test_data)\n",
    "print(confusion_matrix(test_labels, svc_predictions))\n",
    "print(classification_report(test_labels, svc_predictions))"
   ]
  },
  {
   "cell_type": "code",
   "execution_count": 40,
   "metadata": {},
   "outputs": [
    {
     "data": {
      "image/png": "[encoded data removed]",
      "text/plain": [
       "<Figure size 432x288 with 1 Axes>"
      ]
     },
     "metadata": {
      "needs_background": "light"
     },
     "output_type": "display_data"
    },
    {
     "name": "stdout",
     "output_type": "stream",
     "text": [
      "{'gamma': 0.4, 'score': 0.5338445267054469}\n"
     ]
    }
   ],
   "source": [
    "# generate plot showing SVC Classifier score based on different gamma values \n",
    "# and print out gamma value that results in highest score\n",
    "\n",
    "scores = []\n",
    "\n",
    "highest_score = {\n",
    "    'gamma': 0,\n",
    "    'score': 0\n",
    "}\n",
    "\n",
    "gamma_values = np.arange(0.1, 1.0, 0.1)\n",
    "\n",
    "for val in gamma_values:\n",
    "    svc_classifier = SVC(kernel='rbf', gamma=val)\n",
    "    svc_classifier.fit(train_data, train_labels)\n",
    "    score = svc_classifier.score(test_data, test_labels)\n",
    "    scores.append(score)\n",
    "    if score > highest_score['score']:\n",
    "        highest_score = {\n",
    "            'gamma': val,\n",
    "            'score': score\n",
    "        }\n",
    "\n",
    "x_values = gamma_values\n",
    "\n",
    "y_values = scores\n",
    "\n",
    "plt.plot(x_values, y_values)\n",
    "plt.title('Accuracy of Support Vector Machines classifier based on different gamma values')\n",
    "plt.ylabel('Accuracy')\n",
    "plt.xlabel('Gamma value')\n",
    "plt.show()\n",
    "print(highest_score)"
   ]
  },
  {
   "cell_type": "code",
   "execution_count": null,
   "metadata": {},
   "outputs": [],
   "source": []
  }
 ],
 "metadata": {
  "kernelspec": {
   "display_name": "Python 3",
   "language": "python",
   "name": "python3"
  },
  "language_info": {
   "codemirror_mode": {
    "name": "ipython",
    "version": 3
   },
   "file_extension": ".py",
   "mimetype": "text/x-python",
   "name": "python",
   "nbconvert_exporter": "python",
   "pygments_lexer": "ipython3",
   "version": "3.8.5"
  }
 },
 "nbformat": 4,
 "nbformat_minor": 4
}
